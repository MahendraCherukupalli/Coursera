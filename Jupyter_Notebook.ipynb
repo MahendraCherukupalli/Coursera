{
 "cells": [
  {
   "cell_type": "markdown",
   "metadata": {},
   "source": [
    "<center>\n",
    "    <img src=\"https://cf-courses-data.s3.us.cloud-object-storage.appdomain.cloud/IBMDeveloperSkillsNetwork-DS0105EN-SkillsNetwork/labs/Module2/images/SN_web_lightmode.png\" width=\"300\" alt=\"cognitiveclass.ai logo\"  />\n",
    "</center>\n"
   ]
  },
  {
   "cell_type": "markdown",
   "metadata": {},
   "source": [
    "#### Add your code below following the instructions given in the course\n"
   ]
  },
  {
   "cell_type": "markdown",
   "metadata": {},
   "source": [
    "# My Jupyter Notebook on IBM Watson Studio"
   ]
  },
  {
   "cell_type": "markdown",
   "metadata": {},
   "source": [
    "## Mahendra Cherukupalli\n",
    "**Data Science And Machine Learning Enthusiast.**"
   ]
  },
  {
   "cell_type": "markdown",
   "metadata": {},
   "source": [
    "*I am interested in data science because data science has the ability to address most of the problems that we are facing right now, and with the help of data science we can predict the future events based on past data which is also going to help to save some people lifes, so there are no limitations, we can literally do everything with a bunch of raw data that do not mean anything.*"
   ]
  },
  {
   "cell_type": "markdown",
   "metadata": {},
   "source": [
    "### The code written in the below cell returns the square value of the given number"
   ]
  },
  {
   "cell_type": "code",
   "execution_count": 8,
   "metadata": {},
   "outputs": [
    {
     "name": "stdout",
     "output_type": "stream",
     "text": [
      "5\n",
      "the square value of given number is: 25\n"
     ]
    }
   ],
   "source": [
    "n = int(input())\n",
    "print(\"the square value of given number is: \"+str(n*n))"
   ]
  },
  {
   "cell_type": "markdown",
   "metadata": {},
   "source": [
    "#### Bullets\n",
    "- What is data Science ?\n",
    "- Tools for data science .\n",
    "- Data science methodology.\n",
    "\n",
    "#### Numbered list\n",
    "1. What is data Science ?\n",
    "2. Tools for data science .\n",
    "3. Data science methodology.\n",
    "\n",
    "#### Image\n",
    "<img src=\"https://learning.unv.org/pluginfile.php/243766/mod_page/content/53/Coursera-Logo.jpg\" />\n",
    "\n",
    "#### Strikethrough\n",
    "<strike>What is data Science<strike>"
   ]
  },
  {
   "cell_type": "code",
   "execution_count": null,
   "metadata": {},
   "outputs": [],
   "source": []
  }
 ],
 "metadata": {
  "kernelspec": {
   "display_name": "Python 3 (ipykernel)",
   "language": "python",
   "name": "python3"
  },
  "language_info": {
   "codemirror_mode": {
    "name": "ipython",
    "version": 3
   },
   "file_extension": ".py",
   "mimetype": "text/x-python",
   "name": "python",
   "nbconvert_exporter": "python",
   "pygments_lexer": "ipython3",
   "version": "3.9.13"
  }
 },
 "nbformat": 4,
 "nbformat_minor": 4
}
